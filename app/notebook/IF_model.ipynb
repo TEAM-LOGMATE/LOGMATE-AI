{
 "cells": [
  {
   "cell_type": "markdown",
   "id": "3b580a12",
   "metadata": {},
   "source": [
    "Isolation Forest for Anomaly Detection"
   ]
  },
  {
   "cell_type": "code",
   "execution_count": 44,
   "id": "4ebb0ef5",
   "metadata": {},
   "outputs": [
    {
     "data": {
      "text/plain": [
       "['labeled.csv']"
      ]
     },
     "execution_count": 44,
     "metadata": {},
     "output_type": "execute_result"
    }
   ],
   "source": [
    "import zipfile\n",
    "import os\n",
    "\n",
    "zip_path = \"C:/Users/ey896/Downloads/웹로그데이터셋.zip\"        # 데이터 가져오기\n",
    "extract_dir = \"/Users/ey896/Downloads/Dataset\"\n",
    "\n",
    "with zipfile.ZipFile(zip_path, 'r') as zip_ref:\n",
    "    zip_ref.extractall(extract_dir)\n",
    "\n",
    "os.listdir(extract_dir)"
   ]
  },
  {
   "cell_type": "code",
   "execution_count": 45,
   "id": "0de21436",
   "metadata": {},
   "outputs": [
    {
     "data": {
      "text/html": [
       "<div>\n",
       "<style scoped>\n",
       "    .dataframe tbody tr th:only-of-type {\n",
       "        vertical-align: middle;\n",
       "    }\n",
       "\n",
       "    .dataframe tbody tr th {\n",
       "        vertical-align: top;\n",
       "    }\n",
       "\n",
       "    .dataframe thead th {\n",
       "        text-align: right;\n",
       "    }\n",
       "</style>\n",
       "<table border=\"1\" class=\"dataframe\">\n",
       "  <thead>\n",
       "    <tr style=\"text-align: right;\">\n",
       "      <th></th>\n",
       "      <th>ip</th>\n",
       "      <th>time</th>\n",
       "      <th>method</th>\n",
       "      <th>url</th>\n",
       "      <th>protocol</th>\n",
       "      <th>status</th>\n",
       "      <th>size</th>\n",
       "      <th>referrer</th>\n",
       "      <th>user_agent</th>\n",
       "      <th>extra</th>\n",
       "      <th>no</th>\n",
       "      <th>label</th>\n",
       "      <th>type</th>\n",
       "    </tr>\n",
       "  </thead>\n",
       "  <tbody>\n",
       "    <tr>\n",
       "      <th>0</th>\n",
       "      <td>31.56.96.51</td>\n",
       "      <td>2019-01-22 00:26:16+00:00</td>\n",
       "      <td>GET</td>\n",
       "      <td>/image/60844/productModel/200x200</td>\n",
       "      <td>HTTP/1.1</td>\n",
       "      <td>200</td>\n",
       "      <td>5667</td>\n",
       "      <td>https://www.zanbil.ir/m/filter/b113</td>\n",
       "      <td>Mozilla/5.0 (Linux; Android 6.0; ALE-L21 Build...</td>\n",
       "      <td>-</td>\n",
       "      <td>2</td>\n",
       "      <td>0</td>\n",
       "      <td>benign</td>\n",
       "    </tr>\n",
       "    <tr>\n",
       "      <th>1</th>\n",
       "      <td>31.56.96.51</td>\n",
       "      <td>2019-01-22 00:26:16+00:00</td>\n",
       "      <td>GET</td>\n",
       "      <td>/image/61474/productModel/200x200</td>\n",
       "      <td>HTTP/1.1</td>\n",
       "      <td>200</td>\n",
       "      <td>5379</td>\n",
       "      <td>https://www.zanbil.ir/m/filter/b113</td>\n",
       "      <td>Mozilla/5.0 (Linux; Android 6.0; ALE-L21 Build...</td>\n",
       "      <td>-</td>\n",
       "      <td>3</td>\n",
       "      <td>0</td>\n",
       "      <td>benign</td>\n",
       "    </tr>\n",
       "    <tr>\n",
       "      <th>2</th>\n",
       "      <td>91.99.72.15</td>\n",
       "      <td>2019-01-22 00:26:17+00:00</td>\n",
       "      <td>GET</td>\n",
       "      <td>/product/31893/62100/سشوار-خانگی-پرنسلی-مدل-PR...</td>\n",
       "      <td>HTTP/1.1</td>\n",
       "      <td>200</td>\n",
       "      <td>41483</td>\n",
       "      <td>-</td>\n",
       "      <td>Mozilla/5.0 (Windows NT 6.2; Win64; x64; rv:16...</td>\n",
       "      <td>-</td>\n",
       "      <td>5</td>\n",
       "      <td>0</td>\n",
       "      <td>benign</td>\n",
       "    </tr>\n",
       "    <tr>\n",
       "      <th>3</th>\n",
       "      <td>178.253.33.51</td>\n",
       "      <td>2019-01-22 00:26:19+00:00</td>\n",
       "      <td>GET</td>\n",
       "      <td>/m/product/32574/62991/ماشین-اصلاح-صورت-پرنسلی...</td>\n",
       "      <td>HTTP/1.1</td>\n",
       "      <td>200</td>\n",
       "      <td>20406</td>\n",
       "      <td>https://www.zanbil.ir/m/filter/p5767,t156?name...</td>\n",
       "      <td>Mozilla/5.0 (Linux; Android 5.1; HTC Desire 72...</td>\n",
       "      <td>-</td>\n",
       "      <td>13</td>\n",
       "      <td>0</td>\n",
       "      <td>benign</td>\n",
       "    </tr>\n",
       "    <tr>\n",
       "      <th>4</th>\n",
       "      <td>91.99.72.15</td>\n",
       "      <td>2019-01-22 00:26:19+00:00</td>\n",
       "      <td>GET</td>\n",
       "      <td>/product/10075/13903/مایکروفر-رومیزی-سامسونگ-م...</td>\n",
       "      <td>HTTP/1.1</td>\n",
       "      <td>200</td>\n",
       "      <td>41725</td>\n",
       "      <td>-</td>\n",
       "      <td>Mozilla/5.0 (X11; Linux x86_64) AppleWebKit/53...</td>\n",
       "      <td>-</td>\n",
       "      <td>15</td>\n",
       "      <td>0</td>\n",
       "      <td>benign</td>\n",
       "    </tr>\n",
       "    <tr>\n",
       "      <th>...</th>\n",
       "      <td>...</td>\n",
       "      <td>...</td>\n",
       "      <td>...</td>\n",
       "      <td>...</td>\n",
       "      <td>...</td>\n",
       "      <td>...</td>\n",
       "      <td>...</td>\n",
       "      <td>...</td>\n",
       "      <td>...</td>\n",
       "      <td>...</td>\n",
       "      <td>...</td>\n",
       "      <td>...</td>\n",
       "      <td>...</td>\n",
       "    </tr>\n",
       "    <tr>\n",
       "      <th>9282179</th>\n",
       "      <td>188.229.21.56</td>\n",
       "      <td>2019-01-26 16:59:13+00:00</td>\n",
       "      <td>GET</td>\n",
       "      <td>/content/view/shoppingRules</td>\n",
       "      <td>HTTP/1.1</td>\n",
       "      <td>302</td>\n",
       "      <td>0</td>\n",
       "      <td>https://www.zanbil.ir/m/product/32106/62372/ما...</td>\n",
       "      <td>Mozilla/5.0 (Linux; Android 7.0; SM-N920C Buil...</td>\n",
       "      <td>-</td>\n",
       "      <td>10365148</td>\n",
       "      <td>0</td>\n",
       "      <td>benign</td>\n",
       "    </tr>\n",
       "    <tr>\n",
       "      <th>9282180</th>\n",
       "      <td>5.127.220.71</td>\n",
       "      <td>2019-01-26 16:59:13+00:00</td>\n",
       "      <td>GET</td>\n",
       "      <td>/apple-touch-icon-120x120.png</td>\n",
       "      <td>HTTP/1.1</td>\n",
       "      <td>404</td>\n",
       "      <td>32420</td>\n",
       "      <td>-</td>\n",
       "      <td>MobileSafari/604.1 CFNetwork/976 Darwin/18.2.0</td>\n",
       "      <td>-</td>\n",
       "      <td>10365149</td>\n",
       "      <td>0</td>\n",
       "      <td>benign</td>\n",
       "    </tr>\n",
       "    <tr>\n",
       "      <th>9282181</th>\n",
       "      <td>5.213.7.50</td>\n",
       "      <td>2019-01-26 16:59:13+00:00</td>\n",
       "      <td>GET</td>\n",
       "      <td>/m/product/18962/غذا-ساز-مولینکس-مدل-FP7367RT</td>\n",
       "      <td>HTTP/1.1</td>\n",
       "      <td>200</td>\n",
       "      <td>20959</td>\n",
       "      <td>https://www.google.com/</td>\n",
       "      <td>Mozilla/5.0 (iPhone; CPU iPhone OS 10_2_1 like...</td>\n",
       "      <td>-</td>\n",
       "      <td>10365150</td>\n",
       "      <td>0</td>\n",
       "      <td>benign</td>\n",
       "    </tr>\n",
       "    <tr>\n",
       "      <th>9282182</th>\n",
       "      <td>109.125.169.52</td>\n",
       "      <td>2019-01-26 16:59:13+00:00</td>\n",
       "      <td>GET</td>\n",
       "      <td>/image/{{basketItem.id}}?type=productModel&amp;wh=...</td>\n",
       "      <td>HTTP/1.1</td>\n",
       "      <td>200</td>\n",
       "      <td>5</td>\n",
       "      <td>https://www.zanbil.ir/</td>\n",
       "      <td>Mozilla/5.0 (Windows NT 6.1; rv:64.0) Gecko/20...</td>\n",
       "      <td>-</td>\n",
       "      <td>10365151</td>\n",
       "      <td>0</td>\n",
       "      <td>benign</td>\n",
       "    </tr>\n",
       "    <tr>\n",
       "      <th>9282183</th>\n",
       "      <td>37.129.59.160</td>\n",
       "      <td>2019-01-26 16:59:13+00:00</td>\n",
       "      <td>GET</td>\n",
       "      <td>/basket/view</td>\n",
       "      <td>HTTP/1.1</td>\n",
       "      <td>200</td>\n",
       "      <td>17299</td>\n",
       "      <td>https://www-zanbil-ir.cdn.ampproject.org/v/s/w...</td>\n",
       "      <td>Mozilla/5.0 (Linux; Android 6.0.1; D6633 Build...</td>\n",
       "      <td>-</td>\n",
       "      <td>10365152</td>\n",
       "      <td>0</td>\n",
       "      <td>benign</td>\n",
       "    </tr>\n",
       "  </tbody>\n",
       "</table>\n",
       "<p>9282184 rows × 13 columns</p>\n",
       "</div>"
      ],
      "text/plain": [
       "                     ip                       time method  \\\n",
       "0           31.56.96.51  2019-01-22 00:26:16+00:00    GET   \n",
       "1           31.56.96.51  2019-01-22 00:26:16+00:00    GET   \n",
       "2           91.99.72.15  2019-01-22 00:26:17+00:00    GET   \n",
       "3         178.253.33.51  2019-01-22 00:26:19+00:00    GET   \n",
       "4           91.99.72.15  2019-01-22 00:26:19+00:00    GET   \n",
       "...                 ...                        ...    ...   \n",
       "9282179   188.229.21.56  2019-01-26 16:59:13+00:00    GET   \n",
       "9282180    5.127.220.71  2019-01-26 16:59:13+00:00    GET   \n",
       "9282181      5.213.7.50  2019-01-26 16:59:13+00:00    GET   \n",
       "9282182  109.125.169.52  2019-01-26 16:59:13+00:00    GET   \n",
       "9282183   37.129.59.160  2019-01-26 16:59:13+00:00    GET   \n",
       "\n",
       "                                                       url  protocol  status  \\\n",
       "0                        /image/60844/productModel/200x200  HTTP/1.1     200   \n",
       "1                        /image/61474/productModel/200x200  HTTP/1.1     200   \n",
       "2        /product/31893/62100/سشوار-خانگی-پرنسلی-مدل-PR...  HTTP/1.1     200   \n",
       "3        /m/product/32574/62991/ماشین-اصلاح-صورت-پرنسلی...  HTTP/1.1     200   \n",
       "4        /product/10075/13903/مایکروفر-رومیزی-سامسونگ-م...  HTTP/1.1     200   \n",
       "...                                                    ...       ...     ...   \n",
       "9282179                        /content/view/shoppingRules  HTTP/1.1     302   \n",
       "9282180                      /apple-touch-icon-120x120.png  HTTP/1.1     404   \n",
       "9282181      /m/product/18962/غذا-ساز-مولینکس-مدل-FP7367RT  HTTP/1.1     200   \n",
       "9282182  /image/{{basketItem.id}}?type=productModel&wh=...  HTTP/1.1     200   \n",
       "9282183                                       /basket/view  HTTP/1.1     200   \n",
       "\n",
       "          size                                           referrer  \\\n",
       "0         5667                https://www.zanbil.ir/m/filter/b113   \n",
       "1         5379                https://www.zanbil.ir/m/filter/b113   \n",
       "2        41483                                                  -   \n",
       "3        20406  https://www.zanbil.ir/m/filter/p5767,t156?name...   \n",
       "4        41725                                                  -   \n",
       "...        ...                                                ...   \n",
       "9282179      0  https://www.zanbil.ir/m/product/32106/62372/ما...   \n",
       "9282180  32420                                                  -   \n",
       "9282181  20959                            https://www.google.com/   \n",
       "9282182      5                             https://www.zanbil.ir/   \n",
       "9282183  17299  https://www-zanbil-ir.cdn.ampproject.org/v/s/w...   \n",
       "\n",
       "                                                user_agent extra        no  \\\n",
       "0        Mozilla/5.0 (Linux; Android 6.0; ALE-L21 Build...     -         2   \n",
       "1        Mozilla/5.0 (Linux; Android 6.0; ALE-L21 Build...     -         3   \n",
       "2        Mozilla/5.0 (Windows NT 6.2; Win64; x64; rv:16...     -         5   \n",
       "3        Mozilla/5.0 (Linux; Android 5.1; HTC Desire 72...     -        13   \n",
       "4        Mozilla/5.0 (X11; Linux x86_64) AppleWebKit/53...     -        15   \n",
       "...                                                    ...   ...       ...   \n",
       "9282179  Mozilla/5.0 (Linux; Android 7.0; SM-N920C Buil...     -  10365148   \n",
       "9282180     MobileSafari/604.1 CFNetwork/976 Darwin/18.2.0     -  10365149   \n",
       "9282181  Mozilla/5.0 (iPhone; CPU iPhone OS 10_2_1 like...     -  10365150   \n",
       "9282182  Mozilla/5.0 (Windows NT 6.1; rv:64.0) Gecko/20...     -  10365151   \n",
       "9282183  Mozilla/5.0 (Linux; Android 6.0.1; D6633 Build...     -  10365152   \n",
       "\n",
       "         label    type  \n",
       "0            0  benign  \n",
       "1            0  benign  \n",
       "2            0  benign  \n",
       "3            0  benign  \n",
       "4            0  benign  \n",
       "...        ...     ...  \n",
       "9282179      0  benign  \n",
       "9282180      0  benign  \n",
       "9282181      0  benign  \n",
       "9282182      0  benign  \n",
       "9282183      0  benign  \n",
       "\n",
       "[9282184 rows x 13 columns]"
      ]
     },
     "execution_count": 45,
     "metadata": {},
     "output_type": "execute_result"
    }
   ],
   "source": [
    "import pandas as pd\n",
    "\n",
    "csv_path = \"/Users/ey896/Downloads/Dataset/labeled.csv\" \n",
    "\n",
    "df = pd.read_csv(csv_path)\n",
    "\n",
    "df      #데이터셋 확인\n"
   ]
  },
  {
   "cell_type": "markdown",
   "id": "dca2e1b0",
   "metadata": {},
   "source": [
    "EDA"
   ]
  },
  {
   "cell_type": "code",
   "execution_count": 28,
   "id": "a109b55b",
   "metadata": {},
   "outputs": [
    {
     "data": {
      "image/png": "[encoded data removed]",
      "text/plain": [
       "<Figure size 640x480 with 1 Axes>"
      ]
     },
     "metadata": {},
     "output_type": "display_data"
    }
   ],
   "source": [
    "import matplotlib.pyplot as plt\n",
    "\n",
    "df['label'].value_counts().plot(kind='bar', color=['skyblue', 'salmon'])        # 로그 라벨 확인 및 시각화(모두 정상)\n",
    "plt.title('Label Distribution')\n",
    "plt.xticks(ticks=[0, 1], labels=['Normal', 'Attack'], rotation=0)\n",
    "plt.ylabel('Count')\n",
    "plt.grid(axis='y', linestyle='--', alpha=0.7)\n",
    "plt.tight_layout()\n",
    "plt.show()\n"
   ]
  },
  {
   "cell_type": "code",
   "execution_count": 29,
   "id": "0e222cbb",
   "metadata": {},
   "outputs": [
    {
     "data": {
      "image/png": "[encoded data removed]",
      "text/plain": [
       "<Figure size 640x480 with 1 Axes>"
      ]
     },
     "metadata": {},
     "output_type": "display_data"
    }
   ],
   "source": [
    "valid_methods = {'GET', 'POST', 'PUT', 'DELETE', 'OPTIONS', 'HEAD', 'CONNECT', 'TRACE', 'PATCH', 'PROPFIND'} # method 전처리\n",
    "df['method'] = df['method'].apply(lambda x: x if x in valid_methods else 'UNKNOWN')\n",
    "\n",
    "\n",
    "df['method'].value_counts().plot(kind='bar', color='lightgreen')        # method 시각화\n",
    "plt.title('HTTP Method Distribution')\n",
    "plt.ylabel('Count')\n",
    "plt.xticks(rotation=45)\n",
    "plt.grid(axis='y', linestyle='--', alpha=0.7)\n",
    "plt.tight_layout()\n",
    "plt.show()\n"
   ]
  },
  {
   "cell_type": "code",
   "execution_count": 30,
   "id": "c724a426",
   "metadata": {},
   "outputs": [
    {
     "data": {
      "image/png": "[encoded data removed]",
      "text/plain": [
       "<Figure size 640x480 with 1 Axes>"
      ]
     },
     "metadata": {},
     "output_type": "display_data"
    }
   ],
   "source": [
    "df['status'].value_counts().sort_index().plot(kind='bar', color='orange')        # 상태코드 시각화\n",
    "plt.title('HTTP Status Code Distribution')\n",
    "plt.ylabel('Count')\n",
    "plt.grid(axis='y', linestyle='--', alpha=0.7)\n",
    "plt.tight_layout()\n",
    "plt.show()\n"
   ]
  },
  {
   "cell_type": "code",
   "execution_count": 31,
   "id": "3a65e8b8",
   "metadata": {},
   "outputs": [
    {
     "data": {
      "image/png": "[encoded data removed]",
      "text/plain": [
       "<Figure size 1000x500 with 1 Axes>"
      ]
     },
     "metadata": {},
     "output_type": "display_data"
    }
   ],
   "source": [
    "import numpy as np\n",
    "import matplotlib.pyplot as plt\n",
    "\n",
    "log_size = np.log1p(df[df['size'] > 0]['size'])         # 요청한 size 시각화\n",
    "\n",
    "plt.figure(figsize=(10, 5))\n",
    "log_size.hist(bins=100, color='darkorange', edgecolor='black')\n",
    "plt.title('Log-Scaled Request Size Distribution')\n",
    "plt.xlabel('log(1 + Size)')\n",
    "plt.ylabel('Frequency')\n",
    "plt.grid(axis='y', linestyle='--', alpha=0.7)\n",
    "plt.tight_layout()\n",
    "plt.show()\n"
   ]
  },
  {
   "cell_type": "code",
   "execution_count": 32,
   "id": "f65b4ac4",
   "metadata": {},
   "outputs": [
    {
     "data": {
      "image/png": "[encoded data removed]",
      "text/plain": [
       "<Figure size 1000x400 with 1 Axes>"
      ]
     },
     "metadata": {},
     "output_type": "display_data"
    }
   ],
   "source": [
    "import numpy as np\n",
    "\n",
    "df['url_length'] = df['url'].apply(lambda x: len(str(x)))       # URL 길이 시각화\n",
    "log_url_length = np.log1p(df['url_length'])\n",
    "\n",
    "plt.figure(figsize=(10, 4))\n",
    "log_url_length.hist(bins=100, color='slateblue', edgecolor='black')\n",
    "plt.title('Log-Scaled URL Length Distribution')\n",
    "plt.xlabel('log(1 + URL Length)')\n",
    "plt.ylabel('Frequency')\n",
    "plt.tight_layout()\n",
    "plt.show()\n",
    "\n"
   ]
  },
  {
   "cell_type": "code",
   "execution_count": 33,
   "id": "5686592b",
   "metadata": {},
   "outputs": [
    {
     "data": {
      "image/png": "[encoded data removed]",
      "text/plain": [
       "<Figure size 1000x400 with 1 Axes>"
      ]
     },
     "metadata": {},
     "output_type": "display_data"
    }
   ],
   "source": [
    "df['url_depth'] = df['url'].apply(lambda x: str(x).count('/'))\n",
    "\n",
    "plt.figure(figsize=(10, 4))      # URL Depth 시각화(/의 개수)\n",
    "df['url_depth'].hist(bins=30, color='darkcyan', edgecolor='black')\n",
    "plt.title('URL Depth Distribution (Number of /)')\n",
    "plt.xlabel('Depth')\n",
    "plt.ylabel('Frequency')\n",
    "plt.tight_layout()\n",
    "plt.show()\n"
   ]
  },
  {
   "cell_type": "code",
   "execution_count": 37,
   "id": "d7fcd33a",
   "metadata": {},
   "outputs": [
    {
     "name": "stdout",
     "output_type": "stream",
     "text": [
      "unique user_agent : 28331\n"
     ]
    },
    {
     "data": {
      "text/plain": [
       "user_agent\n",
       "Mozilla/5.0 (Windows NT 10.0; Win64; x64) AppleWebKit/537.36 (KHTML, like Gecko) Chrome/71.0.3578.98 Safari/537.36                           746572\n",
       "Mozilla/5.0 (Windows NT 6.1; Win64; x64) AppleWebKit/537.36 (KHTML, like Gecko) Chrome/71.0.3578.98 Safari/537.36                            702672\n",
       "Mozilla/5.0 (Windows NT 6.1) AppleWebKit/537.36 (KHTML, like Gecko) Chrome/71.0.3578.98 Safari/537.36                                        636897\n",
       "Mozilla/5.0 (Windows NT 10.0; Win64; x64; rv:64.0) Gecko/20100101 Firefox/64.0                                                               552142\n",
       "Mozilla/5.0 (Windows NT 6.1; rv:64.0) Gecko/20100101 Firefox/64.0                                                                            454961\n",
       "Mozilla/5.0 (Windows NT 6.1; Win64; x64; rv:64.0) Gecko/20100101 Firefox/64.0                                                                340970\n",
       "Mozilla/5.0 (iPhone; CPU iPhone OS 12_1_2 like Mac OS X) AppleWebKit/605.1.15 (KHTML, like Gecko) Version/12.0 Mobile/15E148 Safari/604.1    180005\n",
       "Mozilla/5.0 (Windows NT 6.3; Win64; x64) AppleWebKit/537.36 (KHTML, like Gecko) Chrome/71.0.3578.98 Safari/537.36                            175913\n",
       "Mozilla/5.0 (Windows NT 6.3; Win64; x64; rv:64.0) Gecko/20100101 Firefox/64.0                                                                 94603\n",
       "Mozilla/5.0 (Windows NT 5.1; rv:52.0) Gecko/20100101 Firefox/52.0                                                                             82152\n",
       "Name: count, dtype: int64"
      ]
     },
     "execution_count": 37,
     "metadata": {},
     "output_type": "execute_result"
    }
   ],
   "source": [
    "print(\"unique user_agent :\", df['user_agent'].nunique()) # user-agent 확인\n",
    "df['user_agent'].value_counts().head(10)\n"
   ]
  },
  {
   "cell_type": "code",
   "execution_count": 39,
   "id": "4aecf25c",
   "metadata": {},
   "outputs": [
    {
     "name": "stdout",
     "output_type": "stream",
     "text": [
      "Index(['ip', 'time', 'url', 'protocol', 'status', 'size', 'referrer',\n",
      "       'user_agent', 'extra', 'no', 'label', 'type', 'url_length', 'url_depth',\n",
      "       'has_query_param', 'url_special_char_count', 'agent_length',\n",
      "       'ref_exists', 'method_GET', 'method_TRACE', 'method_OPTIONS',\n",
      "       'method_CONNECT', 'method_PATCH', 'method_POST', 'method_HEAD',\n",
      "       'method_DELETE', 'method_PUT', 'method_UNKNOWN'],\n",
      "      dtype='object')\n"
     ]
    }
   ],
   "source": [
    "print(df.columns)\n"
   ]
  },
  {
   "cell_type": "code",
   "execution_count": null,
   "id": "e874462d",
   "metadata": {},
   "outputs": [
    {
     "ename": "KeyError",
     "evalue": "'user-agent'",
     "output_type": "error",
     "traceback": [
      "\u001b[31m---------------------------------------------------------------------------\u001b[39m",
      "\u001b[31mKeyError\u001b[39m                                  Traceback (most recent call last)",
      "\u001b[36mCell\u001b[39m\u001b[36m \u001b[39m\u001b[32mIn[46]\u001b[39m\u001b[32m, line 31\u001b[39m\n\u001b[32m     29\u001b[39m df[\u001b[33m'\u001b[39m\u001b[33muri_ioc_count\u001b[39m\u001b[33m'\u001b[39m] = df[\u001b[33m'\u001b[39m\u001b[33murl\u001b[39m\u001b[33m'\u001b[39m].apply(\u001b[38;5;28;01mlambda\u001b[39;00m x: count_ioc(x, IOC_PATTERNS[\u001b[33m'\u001b[39m\u001b[33murl\u001b[39m\u001b[33m'\u001b[39m]))         \u001b[38;5;66;03m# URL에서 IoC 개수\u001b[39;00m\n\u001b[32m     30\u001b[39m df[\u001b[33m'\u001b[39m\u001b[33mua_ioc_count\u001b[39m\u001b[33m'\u001b[39m] = df[\u001b[33m'\u001b[39m\u001b[33muser_agent\u001b[39m\u001b[33m'\u001b[39m].apply(\u001b[38;5;28;01mlambda\u001b[39;00m x: count_ioc(x, IOC_PATTERNS[\u001b[33m'\u001b[39m\u001b[33muser_agent\u001b[39m\u001b[33m'\u001b[39m]) \u001b[38;5;28;01mif\u001b[39;00m \u001b[38;5;28misinstance\u001b[39m(x, \u001b[38;5;28mstr\u001b[39m) \u001b[38;5;28;01melse\u001b[39;00m \u001b[32m0\u001b[39m) \u001b[38;5;66;03m#User-Agent에서 IoC 개수\u001b[39;00m\n\u001b[32m---> \u001b[39m\u001b[32m31\u001b[39m df[\u001b[33m'\u001b[39m\u001b[33mioc_total_count\u001b[39m\u001b[33m'\u001b[39m] = \u001b[43mdf\u001b[49m\u001b[43m.\u001b[49m\u001b[43mapply\u001b[49m\u001b[43m(\u001b[49m\n\u001b[32m     32\u001b[39m \u001b[43m    \u001b[49m\u001b[38;5;28;43;01mlambda\u001b[39;49;00m\u001b[43m \u001b[49m\u001b[43mrow\u001b[49m\u001b[43m:\u001b[49m\u001b[43m \u001b[49m\u001b[43mcount_ioc\u001b[49m\u001b[43m(\u001b[49m\u001b[43mrow\u001b[49m\u001b[43m.\u001b[49m\u001b[43mget\u001b[49m\u001b[43m(\u001b[49m\u001b[33;43m'\u001b[39;49m\u001b[33;43murl\u001b[39;49m\u001b[33;43m'\u001b[39;49m\u001b[43m,\u001b[49m\u001b[43m \u001b[49m\u001b[33;43m'\u001b[39;49m\u001b[33;43m'\u001b[39;49m\u001b[43m)\u001b[49m\u001b[43m,\u001b[49m\u001b[43m \u001b[49m\u001b[43mIOC_PATTERNS\u001b[49m\u001b[43m[\u001b[49m\u001b[33;43m'\u001b[39;49m\u001b[33;43murl\u001b[39;49m\u001b[33;43m'\u001b[39;49m\u001b[43m]\u001b[49m\u001b[43m)\u001b[49m\u001b[43m     \u001b[49m\u001b[38;5;66;43;03m#Referrer + URI + User-Agent를 모두 합쳐서 ioc_total_count로\u001b[39;49;00m\n\u001b[32m     33\u001b[39m \u001b[43m                \u001b[49m\u001b[43m+\u001b[49m\u001b[43m \u001b[49m\u001b[43mcount_ioc\u001b[49m\u001b[43m(\u001b[49m\u001b[43mrow\u001b[49m\u001b[43m.\u001b[49m\u001b[43mget\u001b[49m\u001b[43m(\u001b[49m\u001b[33;43m'\u001b[39;49m\u001b[33;43muser_agent\u001b[39;49m\u001b[33;43m'\u001b[39;49m\u001b[43m,\u001b[49m\u001b[43m \u001b[49m\u001b[33;43m'\u001b[39;49m\u001b[33;43m'\u001b[39;49m\u001b[43m)\u001b[49m\u001b[43m,\u001b[49m\u001b[43m \u001b[49m\u001b[43mIOC_PATTERNS\u001b[49m\u001b[43m[\u001b[49m\u001b[33;43m'\u001b[39;49m\u001b[33;43muser-agent\u001b[39;49m\u001b[33;43m'\u001b[39;49m\u001b[43m]\u001b[49m\u001b[43m)\u001b[49m\u001b[43m,\u001b[49m\n\u001b[32m     34\u001b[39m \u001b[43m    \u001b[49m\u001b[43maxis\u001b[49m\u001b[43m=\u001b[49m\u001b[32;43m1\u001b[39;49m\n\u001b[32m     35\u001b[39m \u001b[43m)\u001b[49m\n\u001b[32m     37\u001b[39m features = [                \n\u001b[32m     38\u001b[39m     \u001b[33m'\u001b[39m\u001b[33mstatus\u001b[39m\u001b[33m'\u001b[39m, \u001b[33m'\u001b[39m\u001b[33msize\u001b[39m\u001b[33m'\u001b[39m, \u001b[33m'\u001b[39m\u001b[33murl_length\u001b[39m\u001b[33m'\u001b[39m, \u001b[33m'\u001b[39m\u001b[33murl_depth\u001b[39m\u001b[33m'\u001b[39m, \u001b[33m'\u001b[39m\u001b[33mhas_query_param\u001b[39m\u001b[33m'\u001b[39m,         \u001b[38;5;66;03m#최종 학습 피처\u001b[39;00m\n\u001b[32m     39\u001b[39m     \u001b[33m'\u001b[39m\u001b[33magent_length\u001b[39m\u001b[33m'\u001b[39m, \u001b[33m'\u001b[39m\u001b[33mref_exists\u001b[39m\u001b[33m'\u001b[39m,\n\u001b[32m     40\u001b[39m     \u001b[33m'\u001b[39m\u001b[33murl_special_char_count\u001b[39m\u001b[33m'\u001b[39m, \u001b[33m'\u001b[39m\u001b[33muri_ioc_count\u001b[39m\u001b[33m'\u001b[39m, \u001b[33m'\u001b[39m\u001b[33mua_ioc_count\u001b[39m\u001b[33m'\u001b[39m, \u001b[33m'\u001b[39m\u001b[33mioc_total_count\u001b[39m\u001b[33m'\u001b[39m\n\u001b[32m     41\u001b[39m ] + method_cols\n\u001b[32m     44\u001b[39m X = df[features]\n",
      "\u001b[36mFile \u001b[39m\u001b[32m~\\AppData\\Local\\Packages\\PythonSoftwareFoundation.Python.3.13_qbz5n2kfra8p0\\LocalCache\\local-packages\\Python313\\site-packages\\pandas\\core\\frame.py:10381\u001b[39m, in \u001b[36mDataFrame.apply\u001b[39m\u001b[34m(self, func, axis, raw, result_type, args, by_row, engine, engine_kwargs, **kwargs)\u001b[39m\n\u001b[32m  10367\u001b[39m \u001b[38;5;28;01mfrom\u001b[39;00m\u001b[38;5;250m \u001b[39m\u001b[34;01mpandas\u001b[39;00m\u001b[34;01m.\u001b[39;00m\u001b[34;01mcore\u001b[39;00m\u001b[34;01m.\u001b[39;00m\u001b[34;01mapply\u001b[39;00m\u001b[38;5;250m \u001b[39m\u001b[38;5;28;01mimport\u001b[39;00m frame_apply\n\u001b[32m  10369\u001b[39m op = frame_apply(\n\u001b[32m  10370\u001b[39m     \u001b[38;5;28mself\u001b[39m,\n\u001b[32m  10371\u001b[39m     func=func,\n\u001b[32m   (...)\u001b[39m\u001b[32m  10379\u001b[39m     kwargs=kwargs,\n\u001b[32m  10380\u001b[39m )\n\u001b[32m> \u001b[39m\u001b[32m10381\u001b[39m \u001b[38;5;28;01mreturn\u001b[39;00m \u001b[43mop\u001b[49m\u001b[43m.\u001b[49m\u001b[43mapply\u001b[49m\u001b[43m(\u001b[49m\u001b[43m)\u001b[49m.__finalize__(\u001b[38;5;28mself\u001b[39m, method=\u001b[33m\"\u001b[39m\u001b[33mapply\u001b[39m\u001b[33m\"\u001b[39m)\n",
      "\u001b[36mFile \u001b[39m\u001b[32m~\\AppData\\Local\\Packages\\PythonSoftwareFoundation.Python.3.13_qbz5n2kfra8p0\\LocalCache\\local-packages\\Python313\\site-packages\\pandas\\core\\apply.py:916\u001b[39m, in \u001b[36mFrameApply.apply\u001b[39m\u001b[34m(self)\u001b[39m\n\u001b[32m    913\u001b[39m \u001b[38;5;28;01melif\u001b[39;00m \u001b[38;5;28mself\u001b[39m.raw:\n\u001b[32m    914\u001b[39m     \u001b[38;5;28;01mreturn\u001b[39;00m \u001b[38;5;28mself\u001b[39m.apply_raw(engine=\u001b[38;5;28mself\u001b[39m.engine, engine_kwargs=\u001b[38;5;28mself\u001b[39m.engine_kwargs)\n\u001b[32m--> \u001b[39m\u001b[32m916\u001b[39m \u001b[38;5;28;01mreturn\u001b[39;00m \u001b[38;5;28;43mself\u001b[39;49m\u001b[43m.\u001b[49m\u001b[43mapply_standard\u001b[49m\u001b[43m(\u001b[49m\u001b[43m)\u001b[49m\n",
      "\u001b[36mFile \u001b[39m\u001b[32m~\\AppData\\Local\\Packages\\PythonSoftwareFoundation.Python.3.13_qbz5n2kfra8p0\\LocalCache\\local-packages\\Python313\\site-packages\\pandas\\core\\apply.py:1063\u001b[39m, in \u001b[36mFrameApply.apply_standard\u001b[39m\u001b[34m(self)\u001b[39m\n\u001b[32m   1061\u001b[39m \u001b[38;5;28;01mdef\u001b[39;00m\u001b[38;5;250m \u001b[39m\u001b[34mapply_standard\u001b[39m(\u001b[38;5;28mself\u001b[39m):\n\u001b[32m   1062\u001b[39m     \u001b[38;5;28;01mif\u001b[39;00m \u001b[38;5;28mself\u001b[39m.engine == \u001b[33m\"\u001b[39m\u001b[33mpython\u001b[39m\u001b[33m\"\u001b[39m:\n\u001b[32m-> \u001b[39m\u001b[32m1063\u001b[39m         results, res_index = \u001b[38;5;28;43mself\u001b[39;49m\u001b[43m.\u001b[49m\u001b[43mapply_series_generator\u001b[49m\u001b[43m(\u001b[49m\u001b[43m)\u001b[49m\n\u001b[32m   1064\u001b[39m     \u001b[38;5;28;01melse\u001b[39;00m:\n\u001b[32m   1065\u001b[39m         results, res_index = \u001b[38;5;28mself\u001b[39m.apply_series_numba()\n",
      "\u001b[36mFile \u001b[39m\u001b[32m~\\AppData\\Local\\Packages\\PythonSoftwareFoundation.Python.3.13_qbz5n2kfra8p0\\LocalCache\\local-packages\\Python313\\site-packages\\pandas\\core\\apply.py:1081\u001b[39m, in \u001b[36mFrameApply.apply_series_generator\u001b[39m\u001b[34m(self)\u001b[39m\n\u001b[32m   1078\u001b[39m \u001b[38;5;28;01mwith\u001b[39;00m option_context(\u001b[33m\"\u001b[39m\u001b[33mmode.chained_assignment\u001b[39m\u001b[33m\"\u001b[39m, \u001b[38;5;28;01mNone\u001b[39;00m):\n\u001b[32m   1079\u001b[39m     \u001b[38;5;28;01mfor\u001b[39;00m i, v \u001b[38;5;129;01min\u001b[39;00m \u001b[38;5;28menumerate\u001b[39m(series_gen):\n\u001b[32m   1080\u001b[39m         \u001b[38;5;66;03m# ignore SettingWithCopy here in case the user mutates\u001b[39;00m\n\u001b[32m-> \u001b[39m\u001b[32m1081\u001b[39m         results[i] = \u001b[38;5;28;43mself\u001b[39;49m\u001b[43m.\u001b[49m\u001b[43mfunc\u001b[49m\u001b[43m(\u001b[49m\u001b[43mv\u001b[49m\u001b[43m,\u001b[49m\u001b[43m \u001b[49m\u001b[43m*\u001b[49m\u001b[38;5;28;43mself\u001b[39;49m\u001b[43m.\u001b[49m\u001b[43margs\u001b[49m\u001b[43m,\u001b[49m\u001b[43m \u001b[49m\u001b[43m*\u001b[49m\u001b[43m*\u001b[49m\u001b[38;5;28;43mself\u001b[39;49m\u001b[43m.\u001b[49m\u001b[43mkwargs\u001b[49m\u001b[43m)\u001b[49m\n\u001b[32m   1082\u001b[39m         \u001b[38;5;28;01mif\u001b[39;00m \u001b[38;5;28misinstance\u001b[39m(results[i], ABCSeries):\n\u001b[32m   1083\u001b[39m             \u001b[38;5;66;03m# If we have a view on v, we need to make a copy because\u001b[39;00m\n\u001b[32m   1084\u001b[39m             \u001b[38;5;66;03m#  series_generator will swap out the underlying data\u001b[39;00m\n\u001b[32m   1085\u001b[39m             results[i] = results[i].copy(deep=\u001b[38;5;28;01mFalse\u001b[39;00m)\n",
      "\u001b[36mCell\u001b[39m\u001b[36m \u001b[39m\u001b[32mIn[46]\u001b[39m\u001b[32m, line 33\u001b[39m, in \u001b[36m<lambda>\u001b[39m\u001b[34m(row)\u001b[39m\n\u001b[32m     29\u001b[39m df[\u001b[33m'\u001b[39m\u001b[33muri_ioc_count\u001b[39m\u001b[33m'\u001b[39m] = df[\u001b[33m'\u001b[39m\u001b[33murl\u001b[39m\u001b[33m'\u001b[39m].apply(\u001b[38;5;28;01mlambda\u001b[39;00m x: count_ioc(x, IOC_PATTERNS[\u001b[33m'\u001b[39m\u001b[33murl\u001b[39m\u001b[33m'\u001b[39m]))         \u001b[38;5;66;03m# URL에서 IoC 개수\u001b[39;00m\n\u001b[32m     30\u001b[39m df[\u001b[33m'\u001b[39m\u001b[33mua_ioc_count\u001b[39m\u001b[33m'\u001b[39m] = df[\u001b[33m'\u001b[39m\u001b[33muser_agent\u001b[39m\u001b[33m'\u001b[39m].apply(\u001b[38;5;28;01mlambda\u001b[39;00m x: count_ioc(x, IOC_PATTERNS[\u001b[33m'\u001b[39m\u001b[33muser_agent\u001b[39m\u001b[33m'\u001b[39m]) \u001b[38;5;28;01mif\u001b[39;00m \u001b[38;5;28misinstance\u001b[39m(x, \u001b[38;5;28mstr\u001b[39m) \u001b[38;5;28;01melse\u001b[39;00m \u001b[32m0\u001b[39m) \u001b[38;5;66;03m#User-Agent에서 IoC 개수\u001b[39;00m\n\u001b[32m     31\u001b[39m df[\u001b[33m'\u001b[39m\u001b[33mioc_total_count\u001b[39m\u001b[33m'\u001b[39m] = df.apply(\n\u001b[32m     32\u001b[39m     \u001b[38;5;28;01mlambda\u001b[39;00m row: count_ioc(row.get(\u001b[33m'\u001b[39m\u001b[33murl\u001b[39m\u001b[33m'\u001b[39m, \u001b[33m'\u001b[39m\u001b[33m'\u001b[39m), IOC_PATTERNS[\u001b[33m'\u001b[39m\u001b[33murl\u001b[39m\u001b[33m'\u001b[39m])     \u001b[38;5;66;03m#Referrer + URI + User-Agent를 모두 합쳐서 ioc_total_count로\u001b[39;00m\n\u001b[32m---> \u001b[39m\u001b[32m33\u001b[39m                 + count_ioc(row.get(\u001b[33m'\u001b[39m\u001b[33muser_agent\u001b[39m\u001b[33m'\u001b[39m, \u001b[33m'\u001b[39m\u001b[33m'\u001b[39m), \u001b[43mIOC_PATTERNS\u001b[49m\u001b[43m[\u001b[49m\u001b[33;43m'\u001b[39;49m\u001b[33;43muser-agent\u001b[39;49m\u001b[33;43m'\u001b[39;49m\u001b[43m]\u001b[49m),\n\u001b[32m     34\u001b[39m     axis=\u001b[32m1\u001b[39m\n\u001b[32m     35\u001b[39m )\n\u001b[32m     37\u001b[39m features = [                \n\u001b[32m     38\u001b[39m     \u001b[33m'\u001b[39m\u001b[33mstatus\u001b[39m\u001b[33m'\u001b[39m, \u001b[33m'\u001b[39m\u001b[33msize\u001b[39m\u001b[33m'\u001b[39m, \u001b[33m'\u001b[39m\u001b[33murl_length\u001b[39m\u001b[33m'\u001b[39m, \u001b[33m'\u001b[39m\u001b[33murl_depth\u001b[39m\u001b[33m'\u001b[39m, \u001b[33m'\u001b[39m\u001b[33mhas_query_param\u001b[39m\u001b[33m'\u001b[39m,         \u001b[38;5;66;03m#최종 학습 피처\u001b[39;00m\n\u001b[32m     39\u001b[39m     \u001b[33m'\u001b[39m\u001b[33magent_length\u001b[39m\u001b[33m'\u001b[39m, \u001b[33m'\u001b[39m\u001b[33mref_exists\u001b[39m\u001b[33m'\u001b[39m,\n\u001b[32m     40\u001b[39m     \u001b[33m'\u001b[39m\u001b[33murl_special_char_count\u001b[39m\u001b[33m'\u001b[39m, \u001b[33m'\u001b[39m\u001b[33muri_ioc_count\u001b[39m\u001b[33m'\u001b[39m, \u001b[33m'\u001b[39m\u001b[33mua_ioc_count\u001b[39m\u001b[33m'\u001b[39m, \u001b[33m'\u001b[39m\u001b[33mioc_total_count\u001b[39m\u001b[33m'\u001b[39m\n\u001b[32m     41\u001b[39m ] + method_cols\n\u001b[32m     44\u001b[39m X = df[features]\n",
      "\u001b[31mKeyError\u001b[39m: 'user-agent'"
     ]
    }
   ],
   "source": [
    "import pandas as pd\n",
    "import re\n",
    "import joblib \n",
    "\n",
    "valid_methods = {'GET', 'POST', 'PUT', 'DELETE', 'OPTIONS', 'HEAD', 'CONNECT', 'TRACE', 'PATCH'} # 전처리\n",
    "df['method'] = df['method'].apply(lambda x: x if x in valid_methods else 'UNKNOWN') # 위의 칼럼에서 존재하지 않는애라면 UNKNOWN으로\n",
    "\n",
    "\n",
    "df['url_length'] = df['url'].apply(len)         # URL 길이\n",
    "df['url_depth'] = df['url'].apply(lambda x: x.count('/'))       # URL 깊이 (/의 개수)\n",
    "df['has_query_param'] = df['url'].apply(lambda x: 1 if '?' in x else 0)         # URL 쿼리 파라미터 개수(?의 개수) \n",
    "df['url_special_char_count'] = df['url'].apply(lambda x: len(re.findall(r\"[^\\w/]\", str(x))))    # URL 내 특수문자 수\n",
    "df['agent_length'] = df['user_agent'].apply(lambda x: len(x) if isinstance(x, str) else 0)      # User-Agent 길이\n",
    "df['ref_exists'] = df['referrer'].apply(lambda x: 1 if isinstance(x, str) and len(x.strip()) > 1 else 0)    # Referrer 존재 여부\n",
    "\n",
    "df['method'] = pd.Categorical(df['method'], categories=list(valid_methods) + ['UNKNOWN'])\n",
    "df = pd.get_dummies(df, columns=['method']) #method는 One-hot encoding적용\n",
    "\n",
    "method_cols = [col for col in df.columns if col.startswith('method_')] # 적용후 새로운 칼럼\n",
    "\n",
    "\n",
    "IOC_PATTERNS = joblib.load(r\"c:\\Users\\ey896\\OneDrive\\Desktop\\AI_log\\app\\model\\ioc_keywords.pkl\")\n",
    "\n",
    "def count_ioc(text, keyword_list):      #IOC 등장 횟수세는 함수 정의\n",
    "    text = str(text).lower()\n",
    "    return sum(1 for pattern in keyword_list if pattern in text)\n",
    "\n",
    "\n",
    "df['uri_ioc_count'] = df['url'].apply(lambda x: count_ioc(x, IOC_PATTERNS['url']))         # URL에서 IoC 개수\n",
    "df['ua_ioc_count'] = df['user_agent'].apply(lambda x: count_ioc(x, IOC_PATTERNS['user_agent']) if isinstance(x, str) else 0) #User-Agent에서 IoC 개수\n",
    "df['ioc_total_count'] = df.apply(\n",
    "    lambda row: count_ioc(row.get('url', ''), IOC_PATTERNS['url'])     #Referrer + URI + User-Agent를 모두 합쳐서 ioc_total_count로\n",
    "                + count_ioc(row.get('user_agent', ''), IOC_PATTERNS['user_agent']),\n",
    "    axis=1\n",
    ")\n",
    "\n",
    "features = [                \n",
    "    'status', 'size', 'url_length', 'url_depth', 'has_query_param',         #최종 학습 피처\n",
    "    'agent_length', 'ref_exists',\n",
    "    'url_special_char_count', 'uri_ioc_count', 'ua_ioc_count', 'ioc_total_count'\n",
    "] + method_cols\n",
    "\n",
    "\n",
    "X = df[features]\n",
    "\n"
   ]
  },
  {
   "cell_type": "code",
   "execution_count": null,
   "id": "c5851f5f",
   "metadata": {},
   "outputs": [],
   "source": [
    "from sklearn.ensemble import IsolationForest\n",
    "\n",
    "                                                        \n",
    "model = IsolationForest(n_estimators=100, contamination=0.05, random_state=42)      # isolation_forest 모델 학습\n",
    "model.fit(X)\n",
    "\n",
    "scores = model.decision_function(X)\n",
    "\n",
    "preds = model.predict(X)\n",
    "\n",
    "df['anomaly_score'] = scores\n",
    "df['is_anomaly'] = preds"
   ]
  },
  {
   "cell_type": "markdown",
   "id": "c6b7542a",
   "metadata": {},
   "source": [
    "임의의 로그 만들어서 테스트 해보기"
   ]
  },
  {
   "cell_type": "code",
   "execution_count": null,
   "id": "b9374071",
   "metadata": {},
   "outputs": [],
   "source": [
    "def preprocess_test_log(log, method_cols_ref, ioc_patterns):                # 전처리 함수 만들기\n",
    "    import re\n",
    "    features = {}\n",
    "\n",
    "    url = str(log.get('url', ''))\n",
    "    user_agent = str(log.get('user_agent', ''))\n",
    "    referrer = str(log.get('referrer', ''))\n",
    "    method = str(log.get('method', '')).upper()\n",
    "\n",
    "    valid_methods = {'GET', 'POST', 'PUT', 'DELETE', 'OPTIONS', 'HEAD', 'CONNECT', 'TRACE', 'PATCH'}\n",
    "    method_final = method if method in valid_methods else 'UNKNOWN'\n",
    "\n",
    "    features['status'] = int(log.get('status', 200))\n",
    "    features['size'] = int(log.get('size', 0))\n",
    "    features['url_length'] = len(url)\n",
    "    features['url_depth'] = url.count('/')\n",
    "    features['has_query_param'] = 1 if '?' in url else 0\n",
    "    features['url_special_char_count'] = len(re.findall(r\"[^\\w/]\", url))\n",
    "    features['agent_length'] = len(user_agent)\n",
    "    features['ref_exists'] = 1 if isinstance(referrer, str) and len(referrer.strip()) > 1 else 0\n",
    "\n",
    "    def count_ioc(text):\n",
    "        text = str(text).lower()\n",
    "        return sum(1 for pattern in ioc_patterns if pattern in text)\n",
    "\n",
    "    features['uri_ioc_count'] = count_ioc(url)\n",
    "    features['ua_ioc_count'] = count_ioc(user_agent)\n",
    "    features['ioc_total_count'] = (\n",
    "        features['uri_ioc_count'] +\n",
    "        features['ua_ioc_count']\n",
    "    \n",
    "    )\n",
    "\n",
    "    for col in method_cols_ref:\n",
    "        features[col] = 0\n",
    "    method_col = f'method_{method_final}'\n",
    "    if method_col in method_cols_ref:\n",
    "        features[method_col] = 1\n",
    "\n",
    "    return features\n"
   ]
  },
  {
   "cell_type": "code",
   "execution_count": null,
   "id": "a4185524",
   "metadata": {},
   "outputs": [],
   "source": [
    "#테스트용 로그\n",
    "test_log = {\n",
    "    'url': '/home',\n",
    "    'user_agent': 'Mozilla/5.0 (Macintosh; Intel Mac OS X 10_15_7) AppleWebKit/537.36 (KHTML, like Gecko) Chrome/114.0.0.0 Safari/537.36',\n",
    "    'referrer': 'https://www.naver.com/',\n",
    "    'method': 'GET',\n",
    "    'status': 200,\n",
    "    'size': 6124\n",
    "}\n",
    "\n",
    "\n"
   ]
  },
  {
   "cell_type": "code",
   "execution_count": null,
   "id": "2a36e506",
   "metadata": {},
   "outputs": [],
   "source": [
    "raw_feat = preprocess_test_log(test_log, method_cols, IOC_PATTERNS)             # 동일한 전처리\n",
    "\n",
    "# 누락 피처 보완\n",
    "for col in features:\n",
    "    if col not in raw_feat:\n",
    "        raw_feat[col] = 0\n",
    "\n",
    "X_test = pd.DataFrame([raw_feat])[features]                             # 컬럼 순서 일치\n",
    "\n",
    "def scale_score(raw_score, score_min=-0.1804, score_max=0.2810):        # min-max 스케줄링 적용\n",
    "    raw_score = np.clip(raw_score, score_min, score_max)\n",
    "    norm_score = (raw_score - score_min) / (score_max - score_min)      # 0~1 정규화\n",
    "    inverted_score = 1 - norm_score                                     # 높을수록 비정상 로그\n",
    "    return round(inverted_score * 100, 2)                               # 100점 만점\n",
    "\n"
   ]
  },
  {
   "cell_type": "code",
   "execution_count": null,
   "id": "398e419b",
   "metadata": {},
   "outputs": [
    {
     "name": "stdout",
     "output_type": "stream",
     "text": [
      "모델 raw 점수: 0.1866\n",
      "사용자 점수: 20.46/100\n"
     ]
    }
   ],
   "source": [
    "X_test = pd.DataFrame([raw_feat])[features]\n",
    "\n",
    "# 예측\n",
    "raw_score = model.decision_function(X_test)[0]\n",
    "user_score = scale_score(raw_score)\n",
    "\n",
    "# 출력\n",
    "print(f\"모델 raw 점수: {raw_score:.4f}\")\n",
    "print(f\"사용자 점수: {user_score}/100\")"
   ]
  },
  {
   "cell_type": "code",
   "execution_count": null,
   "id": "48a6f217",
   "metadata": {},
   "outputs": [
    {
     "data": {
      "text/plain": [
       "['method_cols.pkl']"
      ]
     },
     "execution_count": 18,
     "metadata": {},
     "output_type": "execute_result"
    }
   ],
   "source": [
    "import joblib\n",
    "\n",
    "# 모델 저장\n",
    "##joblib.dump(model, 'isolation_model.pkl')\n",
    "##joblib.dump(features, 'features.pkl')\n",
    "##joblib.dump(method_cols, 'method_cols.pkl')\n",
    "\n"
   ]
  },
  {
   "cell_type": "code",
   "execution_count": null,
   "id": "367a660e",
   "metadata": {},
   "outputs": [
    {
     "name": "stdout",
     "output_type": "stream",
     "text": [
      "features 개수: 21\n",
      "method_cols 예시: ['method_CONNECT', 'method_GET', 'method_POST']\n"
     ]
    }
   ],
   "source": [
    "import joblib\n",
    "\n",
    "model = joblib.load('isolation_model.pkl')\n",
    "features = joblib.load('features.pkl')\n",
    "method_cols = joblib.load('method_cols.pkl')\n",
    "\n",
    "print(f\"features 개수: {len(features)}\")\n",
    "print(f\"method_cols 예시: {method_cols[:3]}\")\n"
   ]
  },
  {
   "cell_type": "code",
   "execution_count": 22,
   "id": "dc977e05",
   "metadata": {},
   "outputs": [
    {
     "name": "stdout",
     "output_type": "stream",
     "text": [
      "저장 완료: c:\\Users\\ey896\\OneDrive\\Desktop\\AI_log\\app\\model\\ioc_keywords.pkl\n"
     ]
    }
   ],
   "source": [
    "import os\n",
    "import joblib\n",
    "\n",
    "# 현재 notebook 위치에서 2단계 상위로: 프로젝트 루트\n",
    "ROOT_DIR = os.path.abspath(os.path.join(os.getcwd(), \"..\", \"..\"))  # notebook → app → 프로젝트 루트\n",
    "MODEL_DIR = os.path.join(ROOT_DIR, \"app\", \"model\")\n",
    "os.makedirs(MODEL_DIR, exist_ok=True)\n",
    "\n",
    "IOC_PATTERNS = {\n",
    "    \"url\": sorted(set(s.lower() for s in [\n",
    "        'NULL', 'CHR', 'ALL', 'UNION', 'CHAR', 'FROM', 'THEN', 'WHEN', 'END', 'CASE', 'ELSE', 'DUAL',\n",
    "        'DBMS_PIPE', 'RECEIVE_MESSAGE', 'INFORMATION_SCHEMA', 'CHARACTER_SETS', 'ELT',\n",
    "        'CONCAT', 'RAND', 'XMLType', 'COUNT', 'GROUP', 'UPPER', 'CONVERT', 'INT',\n",
    "        'NUMERIC', 'CAST', 'shell_exec', 'hink', 'tmp', 'Solstice', 'wget', 'chmod', 'bins', 'mips', 'dlink', 'cli',\n",
    "        'thinkphp', 'Karu', 'efjins', 'rift', 'cmd', 'workspace', 'git', 'xmlrpc', 'htaccess', 'aws', 'userpro', 'zoomsounds',\n",
    "        'shell', 'htpasswd', 'dzs', 'rsd', 'svn', 'ini', 'entries', 'xshell', 'admins', 'wshell',\n",
    "        'wlwmanifest', 'wordpress', 'credentials', 'env', 'cpanelphpmyadmin',\n",
    "        'direct_download', '_phpMyAdmin', 'ajax_load', 'ajax', 'Unus', 'cpadmin', 'cpadmindb',\n",
    "        'bash_history', 'filepath', 'file_link', 'mbox', 'languages','mTheme',\n",
    "        'manipulator', 'pl', 'revslider_show_image', 'wptf'\n",
    "    ])),\n",
    "    \"user_agent\": sorted(set(s.lower() for s in [\n",
    "    'sqlmap', 'curl', 'wget', 'python', 'nmap', 'nikto', \n",
    "    'httpclient', 'libwww-perl', 'masscan', 'fuzzer', 'robots'\n",
    "]))\n",
    "\n",
    "}\n",
    "\n",
    "\n",
    "\n",
    "save_path = os.path.join(MODEL_DIR, \"ioc_keywords.pkl\")\n",
    "joblib.dump(IOC_PATTERNS, save_path)\n",
    "print(f\"저장 완료: {save_path}\")\n"
   ]
  },
  {
   "cell_type": "code",
   "execution_count": 23,
   "id": "05345d15",
   "metadata": {},
   "outputs": [
    {
     "name": "stdout",
     "output_type": "stream",
     "text": [
      "[IOC - URL 패턴]\n",
      "['_phpmyadmin', 'admins', 'ajax', 'ajax_load', 'all', 'aws', 'bash_history', 'bins', 'case', 'cast', 'char', 'character_sets', 'chmod', 'chr', 'cli', 'cmd', 'concat', 'convert', 'count', 'cpadmin', 'cpadmindb', 'cpanelphpmyadmin', 'credentials', 'dbms_pipe', 'direct_download', 'dlink', 'dual', 'dzs', 'efjins', 'else', 'elt', 'end', 'entries', 'env', 'file_link', 'filepath', 'from', 'git', 'group', 'hink', 'htaccess', 'htpasswd', 'information_schema', 'ini', 'int', 'karu', 'languages', 'manipulator', 'mbox', 'mips', 'mtheme', 'null', 'numeric', 'pl', 'rand', 'receive_message', 'revslider_show_image', 'rift', 'rsd', 'shell', 'shell_exec', 'solstice', 'svn', 'then', 'thinkphp', 'tmp', 'union', 'unus', 'upper', 'userpro', 'wget', 'when', 'wlwmanifest', 'wordpress', 'workspace', 'wptf', 'wshell', 'xmlrpc', 'xmltype', 'xshell', 'zoomsounds']\n",
      "\n",
      "[IOC - User-Agent 패턴]\n",
      "['curl', 'fuzzer', 'httpclient', 'libwww-perl', 'masscan', 'nikto', 'nmap', 'python', 'robots', 'sqlmap', 'wget']\n"
     ]
    }
   ],
   "source": [
    "import joblib\n",
    "import os\n",
    "\n",
    "# 저장한 파일 경로\n",
    "ROOT_DIR = os.path.abspath(os.path.join(os.getcwd(), \"..\", \"..\"))  # notebook → app → 프로젝트 루트\n",
    "MODEL_DIR = os.path.join(ROOT_DIR, \"app\", \"model\")\n",
    "load_path = os.path.join(MODEL_DIR, \"ioc_keywords.pkl\")\n",
    "\n",
    "# 불러오기\n",
    "ioc_patterns = joblib.load(load_path)\n",
    "\n",
    "# 확인\n",
    "print(\"[IOC - URL 패턴]\")\n",
    "print(ioc_patterns[\"url\"])\n",
    "\n",
    "print(\"\\n[IOC - User-Agent 패턴]\")\n",
    "print(ioc_patterns[\"user_agent\"])\n"
   ]
  },
  {
   "cell_type": "code",
   "execution_count": null,
   "id": "03381741",
   "metadata": {},
   "outputs": [],
   "source": []
  }
 ],
 "metadata": {
  "kernelspec": {
   "display_name": "Python 3",
   "language": "python",
   "name": "python3"
  },
  "language_info": {
   "codemirror_mode": {
    "name": "ipython",
    "version": 3
   },
   "file_extension": ".py",
   "mimetype": "text/x-python",
   "name": "python",
   "nbconvert_exporter": "python",
   "pygments_lexer": "ipython3",
   "version": "3.13.5"
  }
 },
 "nbformat": 4,
 "nbformat_minor": 5
}
